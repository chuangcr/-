{
 "cells": [
  {
   "cell_type": "code",
   "execution_count": 1,
   "id": "acc36e9f",
   "metadata": {
    "scrolled": true
   },
   "outputs": [
    {
     "name": "stdout",
     "output_type": "stream",
     "text": [
      "Number  1\n",
      "網址: http://ptt.cc/bbs/Gossiping/M.1119243418.A.790.html\n",
      "標題: Re: (問題)華航空難留言\n",
      "\n",
      "Number  2\n",
      "網址: http://ptt.cc/bbs/Gossiping/M.1119245434.A.830.html\n",
      "標題: [八卦] \n",
      "\n",
      "Number  3\n",
      "網址: http://ptt.cc/bbs/Gossiping/M.1119263351.A.BED.html\n",
      "標題: [藝人] 釁悅糰的阿釁\n",
      "\n",
      "Number  4\n",
      "網址: http://ptt.cc/bbs/Gossiping/M.1119341662.A.BF4.html\n",
      "標題: Re: 誰有張憲義的八卦??\n",
      "\n"
     ]
    }
   ],
   "source": [
    "import requests\n",
    "from bs4 import BeautifulSoup\n",
    "\n",
    "page = '1'    \n",
    "url = 'https://www.ptt.cc/bbs/Gossiping/index'+ page +'.html'\n",
    "cookies = {'cookie' : '_ga=GA1.2.1277572816.1612633068; over18=1; _gid=GA1.2.1644168488.1652189891; __cf_bm=k7ChTKrpw6V8ottKvN.M74CGlJ1Ndnd7gQzXx0oDjyk-1652252735-0-ATB02GUiAZ2ZYEMfUEIJ3fVFHnFN2ySOMvA2tFF/w2yk5z9uq1GPyMFcHb4LJdQPz6RZg32qTJE2TFihlq5pFmdlSFigXNdEBu1U6PQLokx71MFYVU+WexPNyfCOtYtDmw=='}\n",
    "try: \n",
    "    content  = requests.get(url,cookies = cookies)\n",
    "    keep = 1\n",
    "except:\n",
    "    keep = 0\n",
    "    \n",
    "soup = BeautifulSoup(content.text,\"lxml\")\n",
    "\n",
    "time = 1\n",
    "\n",
    "while keep  and time <= 2:\n",
    "    \n",
    "    if len(soup.select('.nrec')) == len(soup.select('.title')):\n",
    "        soup_num = soup.select('.nrec')\n",
    "        soup_title = soup.select('.title')\n",
    "        for i in range(len(soup.select('.nrec'))):\n",
    "            if soup_num[i].text == '爆':\n",
    "                print('Number ' , time)\n",
    "                #print('讚數:' , soup_num[i].text)\n",
    "                url = soup_title[i].select_one('a')\n",
    "                print('網址:' , \"http://ptt.cc\" + url['href'])\n",
    "                print('標題:' ,url.text ,end = '\\n\\n')\n",
    "                time += 1 \n",
    "    page = int(page) +1\n",
    "    url = 'https://www.ptt.cc/bbs/Gossiping/index'+ str(page) +'.html'\n",
    "    \n",
    "    try: \n",
    "        content  = requests.get(url,cookies = cookies)\n",
    "        keep = 1\n",
    "    except:\n",
    "        keep = 0\n",
    "        \n",
    "\n",
    "\n"
   ]
  },
  {
   "cell_type": "code",
   "execution_count": null,
   "id": "8ca627fa",
   "metadata": {},
   "outputs": [],
   "source": []
  }
 ],
 "metadata": {
  "kernelspec": {
   "display_name": "Python 3",
   "language": "python",
   "name": "python3"
  },
  "language_info": {
   "codemirror_mode": {
    "name": "ipython",
    "version": 3
   },
   "file_extension": ".py",
   "mimetype": "text/x-python",
   "name": "python",
   "nbconvert_exporter": "python",
   "pygments_lexer": "ipython3",
   "version": "3.8.8"
  }
 },
 "nbformat": 4,
 "nbformat_minor": 5
}
